{
 "cells": [
  {
   "cell_type": "code",
   "execution_count": 4,
   "id": "0d08118f",
   "metadata": {},
   "outputs": [
    {
     "name": "stdout",
     "output_type": "stream",
     "text": [
      "2\n",
      "4\n",
      "0\n",
      "0.5\n"
     ]
    }
   ],
   "source": [
    "#Task1-4th Question-Division\n",
    "\"\"\"The provided code stub reads two integers,  and , from STDIN.\n",
    "\n",
    "Add logic to print two lines. The first line should contain the result of integer division,  // . The second line should contain the result of float division,  / .\n",
    "\n",
    "No rounding or formatting is necessary.\"\"\"\n",
    "\n",
    "\n",
    "if __name__ == '__main__':\n",
    "    a = int(input())\n",
    "    b = int(input())\n",
    "    print (int(a/b))\n",
    "    print (float(a/b))"
   ]
  }
 ],
 "metadata": {
  "kernelspec": {
   "display_name": "Python 3 (ipykernel)",
   "language": "python",
   "name": "python3"
  },
  "language_info": {
   "codemirror_mode": {
    "name": "ipython",
    "version": 3
   },
   "file_extension": ".py",
   "mimetype": "text/x-python",
   "name": "python",
   "nbconvert_exporter": "python",
   "pygments_lexer": "ipython3",
   "version": "3.9.12"
  }
 },
 "nbformat": 4,
 "nbformat_minor": 5
}
